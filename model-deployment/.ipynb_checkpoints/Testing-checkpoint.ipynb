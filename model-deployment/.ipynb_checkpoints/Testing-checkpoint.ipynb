{
 "cells": [
  {
   "cell_type": "code",
   "execution_count": 11,
   "id": "83673f5f",
   "metadata": {},
   "outputs": [],
   "source": [
    "import sys\n",
    "sys.path.insert(0, '../')\n",
    "import os\n",
    "import pygrib\n",
    "import pandas as pd\n",
    "import numpy as np\n",
    "import matplotlib.pyplot as plt\n",
    "import cartopy.crs as ccrs\n",
    "from joblib import load\n",
    "from GRIBFunctions import GRIBProcessor\n",
    "from GRIBFunctions import GRIBPlotter\n",
    "import xarray as xr\n",
    "\n",
    "\n",
    "class WeatherPredictor:\n",
    "    def __init__(self, model_file):\n",
    "        self.model = load(model_file)\n",
    "        self.prediction = None\n",
    "        self.lats = None\n",
    "        self.lons = None\n",
    "\n",
    "    def extract_data_and_coords(self, filename):\n",
    "        with pygrib.open(filename) as grbs:\n",
    "            grb = grbs.select()[0]\n",
    "            data = grb.values\n",
    "            self.lats, self.lons = grb.latlons()\n",
    "            return data.flatten()\n",
    "\n",
    "    def make_prediction(self, grib_file):\n",
    "        X_new = self.extract_data_and_coords(grib_file)\n",
    "        X_new = X_new.reshape(-1, 1)\n",
    "        self.prediction = self.model.predict(X_new).reshape(361, 720)\n",
    "\n",
    "    def generate_csv_output(self):\n",
    "        if self.prediction is None:\n",
    "            raise ValueError(\"No prediction data available. Run make_prediction() first.\")\n",
    "\n",
    "        # Create xarray dataset\n",
    "        prediction_data = pd.DataFrame(self.prediction)\n",
    "        lats = np.arange(-90, 91, 0.5)[:self.prediction.shape[0]]\n",
    "        lons = np.arange(0, 360, 0.5)\n",
    "        dataset = xr.Dataset({'gh': (['latitude', 'longitude'], prediction_data)},\n",
    "                             coords={'latitude': lats, 'longitude': lons})\n",
    "\n",
    "        # Generate CSV output\n",
    "        csv_output = GRIBFunctions.GRIBProcessor.csv_conversion(dataset)\n",
    "        return csv_output\n",
    "\n",
    "\n",
    "    def generate_map_plot(self):\n",
    "        if self.prediction is None:\n",
    "            raise ValueError(\"No prediction data available. Run make_prediction() first.\")\n",
    "        \n",
    "        # Create an xarray dataset from the prediction data\n",
    "        prediction_data = pd.DataFrame(self.prediction)\n",
    "        dataset = GRIBFunctions.create_xarray_dataset(prediction_data, self.lats, self.lons)\n",
    "\n",
    "        # Generate the map plot\n",
    "        plot_output = GRIBFunctions.GRIBPlotter.plot_grib(dataset)\n",
    "        return plot_output"
   ]
  },
  {
   "cell_type": "code",
   "execution_count": 12,
   "id": "0bfe9cc4",
   "metadata": {},
   "outputs": [
    {
     "ename": "AttributeError",
     "evalue": "module 'GRIBFunctions' has no attribute 'GRIBProcessor'",
     "output_type": "error",
     "traceback": [
      "\u001b[0;31m---------------------------------------------------------------------------\u001b[0m",
      "\u001b[0;31mAttributeError\u001b[0m                            Traceback (most recent call last)",
      "Cell \u001b[0;32mIn[12], line 8\u001b[0m\n\u001b[1;32m      5\u001b[0m weather_predictor\u001b[38;5;241m.\u001b[39mmake_prediction(\u001b[38;5;124m'\u001b[39m\u001b[38;5;124m../model-testing/new-twelve\u001b[39m\u001b[38;5;124m'\u001b[39m)\n\u001b[1;32m      7\u001b[0m \u001b[38;5;66;03m# Generate CSV output\u001b[39;00m\n\u001b[0;32m----> 8\u001b[0m csv_output \u001b[38;5;241m=\u001b[39m \u001b[43mweather_predictor\u001b[49m\u001b[38;5;241;43m.\u001b[39;49m\u001b[43mgenerate_csv_output\u001b[49m\u001b[43m(\u001b[49m\u001b[43m)\u001b[49m\n\u001b[1;32m      9\u001b[0m \u001b[38;5;28mprint\u001b[39m(\u001b[38;5;124mf\u001b[39m\u001b[38;5;124m\"\u001b[39m\u001b[38;5;124mCSV output file: \u001b[39m\u001b[38;5;132;01m{\u001b[39;00mcsv_output\u001b[38;5;241m.\u001b[39mname\u001b[38;5;132;01m}\u001b[39;00m\u001b[38;5;124m\"\u001b[39m)\n\u001b[1;32m     11\u001b[0m \u001b[38;5;66;03m# Generate map plot\u001b[39;00m\n",
      "Cell \u001b[0;32mIn[11], line 45\u001b[0m, in \u001b[0;36mWeatherPredictor.generate_csv_output\u001b[0;34m(self)\u001b[0m\n\u001b[1;32m     41\u001b[0m dataset \u001b[38;5;241m=\u001b[39m xr\u001b[38;5;241m.\u001b[39mDataset({\u001b[38;5;124m'\u001b[39m\u001b[38;5;124mgh\u001b[39m\u001b[38;5;124m'\u001b[39m: ([\u001b[38;5;124m'\u001b[39m\u001b[38;5;124mlatitude\u001b[39m\u001b[38;5;124m'\u001b[39m, \u001b[38;5;124m'\u001b[39m\u001b[38;5;124mlongitude\u001b[39m\u001b[38;5;124m'\u001b[39m], prediction_data)},\n\u001b[1;32m     42\u001b[0m                      coords\u001b[38;5;241m=\u001b[39m{\u001b[38;5;124m'\u001b[39m\u001b[38;5;124mlatitude\u001b[39m\u001b[38;5;124m'\u001b[39m: lats, \u001b[38;5;124m'\u001b[39m\u001b[38;5;124mlongitude\u001b[39m\u001b[38;5;124m'\u001b[39m: lons})\n\u001b[1;32m     44\u001b[0m \u001b[38;5;66;03m# Generate CSV output\u001b[39;00m\n\u001b[0;32m---> 45\u001b[0m csv_output \u001b[38;5;241m=\u001b[39m \u001b[43mGRIBFunctions\u001b[49m\u001b[38;5;241;43m.\u001b[39;49m\u001b[43mGRIBProcessor\u001b[49m\u001b[38;5;241m.\u001b[39mcsv_conversion(dataset)\n\u001b[1;32m     46\u001b[0m \u001b[38;5;28;01mreturn\u001b[39;00m csv_output\n",
      "\u001b[0;31mAttributeError\u001b[0m: module 'GRIBFunctions' has no attribute 'GRIBProcessor'"
     ]
    }
   ],
   "source": [
    "# Create an instance of WeatherPredictor\n",
    "weather_predictor = WeatherPredictor('regr_model.joblib')\n",
    "\n",
    "# Make the prediction\n",
    "weather_predictor.make_prediction('../model-testing/new-twelve')\n",
    "\n",
    "# Generate CSV output\n",
    "csv_output = weather_predictor.generate_csv_output()\n",
    "print(f\"CSV output file: {csv_output.name}\")\n",
    "\n",
    "# Generate map plot\n",
    "plot_output = weather_predictor.generate_map_plot()\n",
    "print(f\"Map plot file: {plot_output.name}\")\n"
   ]
  },
  {
   "cell_type": "code",
   "execution_count": 28,
   "id": "88b3ff57",
   "metadata": {},
   "outputs": [],
   "source": [
    "import sys\n",
    "sys.path.insert(0, '../')\n",
    "from GRIBFunctions import GRIBProcessor\n",
    "from GRIBFunctions import GRIBPlotter\n",
    "\n"
   ]
  },
  {
   "cell_type": "code",
   "execution_count": null,
   "id": "8c411562",
   "metadata": {},
   "outputs": [],
   "source": []
  }
 ],
 "metadata": {
  "kernelspec": {
   "display_name": "Python 3 (ipykernel)",
   "language": "python",
   "name": "python3"
  },
  "language_info": {
   "codemirror_mode": {
    "name": "ipython",
    "version": 3
   },
   "file_extension": ".py",
   "mimetype": "text/x-python",
   "name": "python",
   "nbconvert_exporter": "python",
   "pygments_lexer": "ipython3",
   "version": "3.10.6"
  }
 },
 "nbformat": 4,
 "nbformat_minor": 5
}
