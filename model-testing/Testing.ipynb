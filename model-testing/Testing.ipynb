{
 "cells": [
  {
   "cell_type": "code",
   "execution_count": 36,
   "id": "66a7e2d9",
   "metadata": {},
   "outputs": [],
   "source": [
    "import sys\n",
    "sys.path.insert(0, '../')\n",
    "import os\n",
    "import pygrib\n",
    "import pandas as pd\n",
    "import numpy as np\n",
    "import matplotlib.pyplot as plt\n",
    "import cartopy.crs as ccrs\n",
    "from joblib import load\n",
    "from GRIBFunctions import GRIBProcessor\n",
    "from GRIBFunctions import GRIBPlotter\n",
    "import xarray as xr\n",
    "\n",
    "\n",
    "class WeatherPredictor:\n",
    "    def __init__(self, model_file):\n",
    "        self.model = load(model_file)\n",
    "        self.prediction = None\n",
    "        self.lats = None\n",
    "        self.lons = None\n",
    "\n",
    "        \n",
    "    def extract_data_and_coords(self, filename):\n",
    "        with pygrib.open(filename) as grbs:\n",
    "            grb = grbs.select()[0]\n",
    "            data = grb.values\n",
    "            self.lats, self.lons = grb.latlons()\n",
    "            return data.flatten()\n",
    "\n",
    "        \n",
    "    def make_prediction(self, grib_file):\n",
    "        X_new = self.extract_data_and_coords(grib_file)\n",
    "        X_new = X_new.reshape(-1, 1)\n",
    "        self.prediction = self.model.predict(X_new).reshape(361, 720)\n",
    "        \n",
    "\n",
    "    def output_csv(self):\n",
    "        meteo_arr = xr.DataArray(self.prediction, dims=['latitude', 'longitude'])\n",
    "        csv_file = GRIBProcessor.csv_conversion(meteo_arr)\n",
    "        return csv_file\n",
    "    \n",
    "    \n",
    "    def output_plot(self):\n",
    "        xarray_data = xr.DataArray(self.prediction, dims=['latitude', 'longitude'])\n",
    "        plot_file = GRIBPlotter.plot_grib(xarray_data)\n",
    "        return plot_file        \n",
    "    \n"
   ]
  },
  {
   "cell_type": "code",
   "execution_count": 37,
   "id": "e10776cd",
   "metadata": {},
   "outputs": [
    {
     "ename": "ValueError",
     "evalue": "cannot rename 'gh' because it is not a variable or dimension in this dataset",
     "output_type": "error",
     "traceback": [
      "\u001b[0;31m---------------------------------------------------------------------------\u001b[0m",
      "\u001b[0;31mValueError\u001b[0m                                Traceback (most recent call last)",
      "Cell \u001b[0;32mIn[37], line 3\u001b[0m\n\u001b[1;32m      1\u001b[0m predictor \u001b[38;5;241m=\u001b[39m WeatherPredictor(\u001b[38;5;124m'\u001b[39m\u001b[38;5;124mregr_model.joblib\u001b[39m\u001b[38;5;124m'\u001b[39m)\n\u001b[1;32m      2\u001b[0m predictor\u001b[38;5;241m.\u001b[39mmake_prediction(\u001b[38;5;124m'\u001b[39m\u001b[38;5;124m../model-testing/new-twelve\u001b[39m\u001b[38;5;124m'\u001b[39m)\n\u001b[0;32m----> 3\u001b[0m csv_file \u001b[38;5;241m=\u001b[39m \u001b[43mpredictor\u001b[49m\u001b[38;5;241;43m.\u001b[39;49m\u001b[43moutput_csv\u001b[49m\u001b[43m(\u001b[49m\u001b[43m)\u001b[49m\n\u001b[1;32m      4\u001b[0m plot_file \u001b[38;5;241m=\u001b[39m predictor\u001b[38;5;241m.\u001b[39moutput_plot()\n",
      "Cell \u001b[0;32mIn[36], line 39\u001b[0m, in \u001b[0;36mWeatherPredictor.output_csv\u001b[0;34m(self)\u001b[0m\n\u001b[1;32m     37\u001b[0m \u001b[38;5;28;01mdef\u001b[39;00m \u001b[38;5;21moutput_csv\u001b[39m(\u001b[38;5;28mself\u001b[39m):\n\u001b[1;32m     38\u001b[0m     meteo_arr \u001b[38;5;241m=\u001b[39m xr\u001b[38;5;241m.\u001b[39mDataArray(\u001b[38;5;28mself\u001b[39m\u001b[38;5;241m.\u001b[39mprediction, dims\u001b[38;5;241m=\u001b[39m[\u001b[38;5;124m'\u001b[39m\u001b[38;5;124mlatitude\u001b[39m\u001b[38;5;124m'\u001b[39m, \u001b[38;5;124m'\u001b[39m\u001b[38;5;124mlongitude\u001b[39m\u001b[38;5;124m'\u001b[39m])\n\u001b[0;32m---> 39\u001b[0m     csv_file \u001b[38;5;241m=\u001b[39m \u001b[43mGRIBProcessor\u001b[49m\u001b[38;5;241;43m.\u001b[39;49m\u001b[43mcsv_conversion\u001b[49m\u001b[43m(\u001b[49m\u001b[43mmeteo_arr\u001b[49m\u001b[43m)\u001b[49m\n\u001b[1;32m     40\u001b[0m     \u001b[38;5;28;01mreturn\u001b[39;00m csv_file\n",
      "File \u001b[0;32m~/detectives/data-stormer-modeling/model-deployment/../GRIBFunctions/GRIBProcessor.py:14\u001b[0m, in \u001b[0;36mcsv_conversion\u001b[0;34m(meteo_arr)\u001b[0m\n\u001b[1;32m     11\u001b[0m \u001b[38;5;28;01mdef\u001b[39;00m \u001b[38;5;21mcsv_conversion\u001b[39m(meteo_arr):\n\u001b[1;32m     12\u001b[0m \n\u001b[1;32m     13\u001b[0m     \u001b[38;5;66;03m# Rename the variable within the dataset\u001b[39;00m\n\u001b[0;32m---> 14\u001b[0m     meteo_arr \u001b[38;5;241m=\u001b[39m \u001b[43mmeteo_arr\u001b[49m\u001b[38;5;241;43m.\u001b[39;49m\u001b[43mrename\u001b[49m\u001b[43m(\u001b[49m\u001b[43m{\u001b[49m\u001b[38;5;124;43m'\u001b[39;49m\u001b[38;5;124;43mgh\u001b[39;49m\u001b[38;5;124;43m'\u001b[39;49m\u001b[43m:\u001b[49m\u001b[43m \u001b[49m\u001b[38;5;124;43m'\u001b[39;49m\u001b[38;5;124;43mgh\u001b[39;49m\u001b[38;5;124;43m'\u001b[39;49m\u001b[43m}\u001b[49m\u001b[43m)\u001b[49m\n\u001b[1;32m     16\u001b[0m     \u001b[38;5;66;03m# Convert to DataFrame\u001b[39;00m\n\u001b[1;32m     17\u001b[0m     met_frame \u001b[38;5;241m=\u001b[39m meteo_arr\u001b[38;5;241m.\u001b[39mto_dataframe()\n",
      "File \u001b[0;32m~/.local/lib/python3.10/site-packages/xarray/core/dataarray.py:2372\u001b[0m, in \u001b[0;36mDataArray.rename\u001b[0;34m(self, new_name_or_name_dict, **names)\u001b[0m\n\u001b[1;32m   2369\u001b[0m \u001b[38;5;28;01mif\u001b[39;00m utils\u001b[38;5;241m.\u001b[39mis_dict_like(new_name_or_name_dict) \u001b[38;5;129;01mor\u001b[39;00m new_name_or_name_dict \u001b[38;5;129;01mis\u001b[39;00m \u001b[38;5;28;01mNone\u001b[39;00m:\n\u001b[1;32m   2370\u001b[0m     \u001b[38;5;66;03m# change dims/coords\u001b[39;00m\n\u001b[1;32m   2371\u001b[0m     name_dict \u001b[38;5;241m=\u001b[39m either_dict_or_kwargs(new_name_or_name_dict, names, \u001b[38;5;124m\"\u001b[39m\u001b[38;5;124mrename\u001b[39m\u001b[38;5;124m\"\u001b[39m)\n\u001b[0;32m-> 2372\u001b[0m     dataset \u001b[38;5;241m=\u001b[39m \u001b[38;5;28;43mself\u001b[39;49m\u001b[38;5;241;43m.\u001b[39;49m\u001b[43m_to_temp_dataset\u001b[49m\u001b[43m(\u001b[49m\u001b[43m)\u001b[49m\u001b[38;5;241;43m.\u001b[39;49m\u001b[43m_rename\u001b[49m\u001b[43m(\u001b[49m\u001b[43mname_dict\u001b[49m\u001b[43m)\u001b[49m\n\u001b[1;32m   2373\u001b[0m     \u001b[38;5;28;01mreturn\u001b[39;00m \u001b[38;5;28mself\u001b[39m\u001b[38;5;241m.\u001b[39m_from_temp_dataset(dataset)\n\u001b[1;32m   2374\u001b[0m \u001b[38;5;28;01mif\u001b[39;00m utils\u001b[38;5;241m.\u001b[39mhashable(new_name_or_name_dict) \u001b[38;5;129;01mand\u001b[39;00m names:\n\u001b[1;32m   2375\u001b[0m     \u001b[38;5;66;03m# change name + dims/coords\u001b[39;00m\n",
      "File \u001b[0;32m~/.local/lib/python3.10/site-packages/xarray/core/dataset.py:3678\u001b[0m, in \u001b[0;36mDataset._rename\u001b[0;34m(self, name_dict, **names)\u001b[0m\n\u001b[1;32m   3676\u001b[0m \u001b[38;5;28;01mfor\u001b[39;00m k \u001b[38;5;129;01min\u001b[39;00m name_dict\u001b[38;5;241m.\u001b[39mkeys():\n\u001b[1;32m   3677\u001b[0m     \u001b[38;5;28;01mif\u001b[39;00m k \u001b[38;5;129;01mnot\u001b[39;00m \u001b[38;5;129;01min\u001b[39;00m \u001b[38;5;28mself\u001b[39m \u001b[38;5;129;01mand\u001b[39;00m k \u001b[38;5;129;01mnot\u001b[39;00m \u001b[38;5;129;01min\u001b[39;00m \u001b[38;5;28mself\u001b[39m\u001b[38;5;241m.\u001b[39mdims:\n\u001b[0;32m-> 3678\u001b[0m         \u001b[38;5;28;01mraise\u001b[39;00m \u001b[38;5;167;01mValueError\u001b[39;00m(\n\u001b[1;32m   3679\u001b[0m             \u001b[38;5;124mf\u001b[39m\u001b[38;5;124m\"\u001b[39m\u001b[38;5;124mcannot rename \u001b[39m\u001b[38;5;132;01m{\u001b[39;00mk\u001b[38;5;132;01m!r}\u001b[39;00m\u001b[38;5;124m because it is not a \u001b[39m\u001b[38;5;124m\"\u001b[39m\n\u001b[1;32m   3680\u001b[0m             \u001b[38;5;124m\"\u001b[39m\u001b[38;5;124mvariable or dimension in this dataset\u001b[39m\u001b[38;5;124m\"\u001b[39m\n\u001b[1;32m   3681\u001b[0m         )\n\u001b[1;32m   3683\u001b[0m     create_dim_coord \u001b[38;5;241m=\u001b[39m \u001b[38;5;28;01mFalse\u001b[39;00m\n\u001b[1;32m   3684\u001b[0m     new_k \u001b[38;5;241m=\u001b[39m name_dict[k]\n",
      "\u001b[0;31mValueError\u001b[0m: cannot rename 'gh' because it is not a variable or dimension in this dataset"
     ]
    }
   ],
   "source": [
    "predictor = WeatherPredictor('regr_model.joblib')\n",
    "predictor.make_prediction('../model-testing/new-twelve')\n",
    "csv_file = predictor.output_csv()\n",
    "plot_file = predictor.output_plot()\n"
   ]
  },
  {
   "cell_type": "code",
   "execution_count": 28,
   "id": "89b739db",
   "metadata": {},
   "outputs": [],
   "source": []
  },
  {
   "cell_type": "code",
   "execution_count": null,
   "id": "5cc050c7",
   "metadata": {},
   "outputs": [],
   "source": []
  }
 ],
 "metadata": {
  "kernelspec": {
   "display_name": "Python 3 (ipykernel)",
   "language": "python",
   "name": "python3"
  },
  "language_info": {
   "codemirror_mode": {
    "name": "ipython",
    "version": 3
   },
   "file_extension": ".py",
   "mimetype": "text/x-python",
   "name": "python",
   "nbconvert_exporter": "python",
   "pygments_lexer": "ipython3",
   "version": "3.10.6"
  }
 },
 "nbformat": 4,
 "nbformat_minor": 5
}
